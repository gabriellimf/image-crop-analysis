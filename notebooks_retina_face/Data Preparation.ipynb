{
 "cells": [
  {
   "cell_type": "markdown",
   "metadata": {},
   "source": [
    "```\n",
    "Copyright 2021 Twitter, Inc.\n",
    "SPDX-License-Identifier: Apache-2.0\n",
    "```\n",
    "\n",
    "## Collect analysis data from Wikidata\n",
    "\n",
    "Save the output of the query run on https://query.wikidata.org/ as described in the paper with the name `dataset.json`"
   ]
  },
  {
   "cell_type": "code",
   "execution_count": 1,
   "metadata": {},
   "outputs": [
    {
     "name": "stdout",
     "output_type": "stream",
     "text": [
      "Requirement already satisfied: pip in /Users/gabrielli/Development/tcc/image-crop-analysis/.venv/lib/python3.10/site-packages (25.1.1)\n",
      "Requirement already satisfied: torch in /Users/gabrielli/Development/tcc/image-crop-analysis/.venv/lib/python3.10/site-packages (2.7.0)\n",
      "Requirement already satisfied: torchvision in /Users/gabrielli/Development/tcc/image-crop-analysis/.venv/lib/python3.10/site-packages (0.22.0)\n",
      "Requirement already satisfied: torchaudio in /Users/gabrielli/Development/tcc/image-crop-analysis/.venv/lib/python3.10/site-packages (2.7.0)\n",
      "Requirement already satisfied: filelock in /Users/gabrielli/Development/tcc/image-crop-analysis/.venv/lib/python3.10/site-packages (from torch) (3.18.0)\n",
      "Requirement already satisfied: typing-extensions>=4.10.0 in /Users/gabrielli/Development/tcc/image-crop-analysis/.venv/lib/python3.10/site-packages (from torch) (4.13.2)\n",
      "Requirement already satisfied: sympy>=1.13.3 in /Users/gabrielli/Development/tcc/image-crop-analysis/.venv/lib/python3.10/site-packages (from torch) (1.14.0)\n",
      "Requirement already satisfied: networkx in /Users/gabrielli/Development/tcc/image-crop-analysis/.venv/lib/python3.10/site-packages (from torch) (3.4.2)\n",
      "Requirement already satisfied: jinja2 in /Users/gabrielli/Development/tcc/image-crop-analysis/.venv/lib/python3.10/site-packages (from torch) (3.1.6)\n",
      "Requirement already satisfied: fsspec in /Users/gabrielli/Development/tcc/image-crop-analysis/.venv/lib/python3.10/site-packages (from torch) (2025.3.2)\n",
      "Requirement already satisfied: numpy in /Users/gabrielli/Development/tcc/image-crop-analysis/.venv/lib/python3.10/site-packages (from torchvision) (1.23.5)\n",
      "Requirement already satisfied: pillow!=8.3.*,>=5.3.0 in /Users/gabrielli/Development/tcc/image-crop-analysis/.venv/lib/python3.10/site-packages (from torchvision) (9.5.0)\n",
      "Requirement already satisfied: mpmath<1.4,>=1.1.0 in /Users/gabrielli/Development/tcc/image-crop-analysis/.venv/lib/python3.10/site-packages (from sympy>=1.13.3->torch) (1.3.0)\n",
      "Requirement already satisfied: MarkupSafe>=2.0 in /Users/gabrielli/Development/tcc/image-crop-analysis/.venv/lib/python3.10/site-packages (from jinja2->torch) (3.0.2)\n",
      "Requirement already satisfied: transformers in /Users/gabrielli/Development/tcc/image-crop-analysis/.venv/lib/python3.10/site-packages (4.51.3)\n",
      "Requirement already satisfied: filelock in /Users/gabrielli/Development/tcc/image-crop-analysis/.venv/lib/python3.10/site-packages (from transformers) (3.18.0)\n",
      "Requirement already satisfied: huggingface-hub<1.0,>=0.30.0 in /Users/gabrielli/Development/tcc/image-crop-analysis/.venv/lib/python3.10/site-packages (from transformers) (0.31.4)\n",
      "Requirement already satisfied: numpy>=1.17 in /Users/gabrielli/Development/tcc/image-crop-analysis/.venv/lib/python3.10/site-packages (from transformers) (1.23.5)\n",
      "Requirement already satisfied: packaging>=20.0 in /Users/gabrielli/Development/tcc/image-crop-analysis/.venv/lib/python3.10/site-packages (from transformers) (25.0)\n",
      "Requirement already satisfied: pyyaml>=5.1 in /Users/gabrielli/Development/tcc/image-crop-analysis/.venv/lib/python3.10/site-packages (from transformers) (6.0.2)\n",
      "Requirement already satisfied: regex!=2019.12.17 in /Users/gabrielli/Development/tcc/image-crop-analysis/.venv/lib/python3.10/site-packages (from transformers) (2024.11.6)\n",
      "Requirement already satisfied: requests in /Users/gabrielli/Development/tcc/image-crop-analysis/.venv/lib/python3.10/site-packages (from transformers) (2.32.3)\n",
      "Requirement already satisfied: tokenizers<0.22,>=0.21 in /Users/gabrielli/Development/tcc/image-crop-analysis/.venv/lib/python3.10/site-packages (from transformers) (0.21.1)\n",
      "Requirement already satisfied: safetensors>=0.4.3 in /Users/gabrielli/Development/tcc/image-crop-analysis/.venv/lib/python3.10/site-packages (from transformers) (0.5.3)\n",
      "Requirement already satisfied: tqdm>=4.27 in /Users/gabrielli/Development/tcc/image-crop-analysis/.venv/lib/python3.10/site-packages (from transformers) (4.67.1)\n",
      "Requirement already satisfied: fsspec>=2023.5.0 in /Users/gabrielli/Development/tcc/image-crop-analysis/.venv/lib/python3.10/site-packages (from huggingface-hub<1.0,>=0.30.0->transformers) (2025.3.2)\n",
      "Requirement already satisfied: typing-extensions>=3.7.4.3 in /Users/gabrielli/Development/tcc/image-crop-analysis/.venv/lib/python3.10/site-packages (from huggingface-hub<1.0,>=0.30.0->transformers) (4.13.2)\n",
      "Requirement already satisfied: charset-normalizer<4,>=2 in /Users/gabrielli/Development/tcc/image-crop-analysis/.venv/lib/python3.10/site-packages (from requests->transformers) (3.4.2)\n",
      "Requirement already satisfied: idna<4,>=2.5 in /Users/gabrielli/Development/tcc/image-crop-analysis/.venv/lib/python3.10/site-packages (from requests->transformers) (3.10)\n",
      "Requirement already satisfied: urllib3<3,>=1.21.1 in /Users/gabrielli/Development/tcc/image-crop-analysis/.venv/lib/python3.10/site-packages (from requests->transformers) (2.4.0)\n",
      "Requirement already satisfied: certifi>=2017.4.17 in /Users/gabrielli/Development/tcc/image-crop-analysis/.venv/lib/python3.10/site-packages (from requests->transformers) (2025.4.26)\n",
      "Requirement already satisfied: py-feat in /Users/gabrielli/Development/tcc/image-crop-analysis/.venv/lib/python3.10/site-packages (0.6.2)\n",
      "Requirement already satisfied: pandas>=1.0 in /Users/gabrielli/Development/tcc/image-crop-analysis/.venv/lib/python3.10/site-packages (from py-feat) (2.2.3)\n",
      "Requirement already satisfied: numpy>=1.9 in /Users/gabrielli/Development/tcc/image-crop-analysis/.venv/lib/python3.10/site-packages (from py-feat) (1.23.5)\n",
      "Requirement already satisfied: seaborn>=0.7.0 in /Users/gabrielli/Development/tcc/image-crop-analysis/.venv/lib/python3.10/site-packages (from py-feat) (0.13.2)\n",
      "Requirement already satisfied: matplotlib>=2.1 in /Users/gabrielli/Development/tcc/image-crop-analysis/.venv/lib/python3.10/site-packages (from py-feat) (3.10.3)\n",
      "Requirement already satisfied: nltools>=0.5.1 in /Users/gabrielli/Development/tcc/image-crop-analysis/.venv/lib/python3.10/site-packages (from py-feat) (0.5.1)\n",
      "Requirement already satisfied: numexpr<2.8.5 in /Users/gabrielli/Development/tcc/image-crop-analysis/.venv/lib/python3.10/site-packages (from py-feat) (2.8.4)\n",
      "Requirement already satisfied: scikit-learn>=1.2 in /Users/gabrielli/Development/tcc/image-crop-analysis/.venv/lib/python3.10/site-packages (from py-feat) (1.6.1)\n",
      "Requirement already satisfied: pywavelets>=0.3.0 in /Users/gabrielli/Development/tcc/image-crop-analysis/.venv/lib/python3.10/site-packages (from py-feat) (1.8.0)\n",
      "Requirement already satisfied: h5py>=2.7.0 in /Users/gabrielli/Development/tcc/image-crop-analysis/.venv/lib/python3.10/site-packages (from py-feat) (3.13.0)\n",
      "Requirement already satisfied: Pillow>=6.0.0 in /Users/gabrielli/Development/tcc/image-crop-analysis/.venv/lib/python3.10/site-packages (from py-feat) (9.5.0)\n",
      "Requirement already satisfied: torchvision in /Users/gabrielli/Development/tcc/image-crop-analysis/.venv/lib/python3.10/site-packages (from py-feat) (0.22.0)\n",
      "Requirement already satisfied: scikit-image>=0.19 in /Users/gabrielli/Development/tcc/image-crop-analysis/.venv/lib/python3.10/site-packages (from py-feat) (0.24.0)\n",
      "Requirement already satisfied: joblib in /Users/gabrielli/Development/tcc/image-crop-analysis/.venv/lib/python3.10/site-packages (from py-feat) (1.5.0)\n",
      "Requirement already satisfied: easing-functions in /Users/gabrielli/Development/tcc/image-crop-analysis/.venv/lib/python3.10/site-packages (from py-feat) (1.0.4)\n",
      "Requirement already satisfied: celluloid in /Users/gabrielli/Development/tcc/image-crop-analysis/.venv/lib/python3.10/site-packages (from py-feat) (0.2.0)\n",
      "Requirement already satisfied: tqdm in /Users/gabrielli/Development/tcc/image-crop-analysis/.venv/lib/python3.10/site-packages (from py-feat) (4.67.1)\n",
      "Requirement already satisfied: kornia in /Users/gabrielli/Development/tcc/image-crop-analysis/.venv/lib/python3.10/site-packages (from py-feat) (0.8.1)\n",
      "Requirement already satisfied: av>=9.2.0 in /Users/gabrielli/Development/tcc/image-crop-analysis/.venv/lib/python3.10/site-packages (from py-feat) (14.4.0)\n",
      "Requirement already satisfied: xgboost>=1.6.0 in /Users/gabrielli/Development/tcc/image-crop-analysis/.venv/lib/python3.10/site-packages (from py-feat) (3.0.1)\n",
      "Requirement already satisfied: contourpy>=1.0.1 in /Users/gabrielli/Development/tcc/image-crop-analysis/.venv/lib/python3.10/site-packages (from matplotlib>=2.1->py-feat) (1.3.2)\n",
      "Requirement already satisfied: cycler>=0.10 in /Users/gabrielli/Development/tcc/image-crop-analysis/.venv/lib/python3.10/site-packages (from matplotlib>=2.1->py-feat) (0.12.1)\n",
      "Requirement already satisfied: fonttools>=4.22.0 in /Users/gabrielli/Development/tcc/image-crop-analysis/.venv/lib/python3.10/site-packages (from matplotlib>=2.1->py-feat) (4.58.0)\n",
      "Requirement already satisfied: kiwisolver>=1.3.1 in /Users/gabrielli/Development/tcc/image-crop-analysis/.venv/lib/python3.10/site-packages (from matplotlib>=2.1->py-feat) (1.4.8)\n",
      "Requirement already satisfied: packaging>=20.0 in /Users/gabrielli/Development/tcc/image-crop-analysis/.venv/lib/python3.10/site-packages (from matplotlib>=2.1->py-feat) (25.0)\n",
      "Requirement already satisfied: pyparsing>=2.3.1 in /Users/gabrielli/Development/tcc/image-crop-analysis/.venv/lib/python3.10/site-packages (from matplotlib>=2.1->py-feat) (3.2.3)\n",
      "Requirement already satisfied: python-dateutil>=2.7 in /Users/gabrielli/Development/tcc/image-crop-analysis/.venv/lib/python3.10/site-packages (from matplotlib>=2.1->py-feat) (2.9.0.post0)\n",
      "Requirement already satisfied: nibabel>=3.0.1 in /Users/gabrielli/Development/tcc/image-crop-analysis/.venv/lib/python3.10/site-packages (from nltools>=0.5.1->py-feat) (5.3.2)\n",
      "Requirement already satisfied: nilearn>=0.6.0 in /Users/gabrielli/Development/tcc/image-crop-analysis/.venv/lib/python3.10/site-packages (from nltools>=0.5.1->py-feat) (0.11.1)\n",
      "Requirement already satisfied: scipy>=1.7.0 in /Users/gabrielli/Development/tcc/image-crop-analysis/.venv/lib/python3.10/site-packages (from nltools>=0.5.1->py-feat) (1.15.3)\n",
      "Requirement already satisfied: pynv in /Users/gabrielli/Development/tcc/image-crop-analysis/.venv/lib/python3.10/site-packages (from nltools>=0.5.1->py-feat) (0.3)\n",
      "Requirement already satisfied: importlib-resources>=5.12 in /Users/gabrielli/Development/tcc/image-crop-analysis/.venv/lib/python3.10/site-packages (from nibabel>=3.0.1->nltools>=0.5.1->py-feat) (6.5.2)\n",
      "Requirement already satisfied: typing-extensions>=4.6 in /Users/gabrielli/Development/tcc/image-crop-analysis/.venv/lib/python3.10/site-packages (from nibabel>=3.0.1->nltools>=0.5.1->py-feat) (4.13.2)\n",
      "Requirement already satisfied: lxml in /Users/gabrielli/Development/tcc/image-crop-analysis/.venv/lib/python3.10/site-packages (from nilearn>=0.6.0->nltools>=0.5.1->py-feat) (5.4.0)\n",
      "Requirement already satisfied: requests>=2.25.0 in /Users/gabrielli/Development/tcc/image-crop-analysis/.venv/lib/python3.10/site-packages (from nilearn>=0.6.0->nltools>=0.5.1->py-feat) (2.32.3)\n",
      "Requirement already satisfied: pytz>=2020.1 in /Users/gabrielli/Development/tcc/image-crop-analysis/.venv/lib/python3.10/site-packages (from pandas>=1.0->py-feat) (2025.2)\n",
      "Requirement already satisfied: tzdata>=2022.7 in /Users/gabrielli/Development/tcc/image-crop-analysis/.venv/lib/python3.10/site-packages (from pandas>=1.0->py-feat) (2025.2)\n",
      "Requirement already satisfied: six>=1.5 in /Users/gabrielli/Development/tcc/image-crop-analysis/.venv/lib/python3.10/site-packages (from python-dateutil>=2.7->matplotlib>=2.1->py-feat) (1.17.0)\n",
      "Requirement already satisfied: charset-normalizer<4,>=2 in /Users/gabrielli/Development/tcc/image-crop-analysis/.venv/lib/python3.10/site-packages (from requests>=2.25.0->nilearn>=0.6.0->nltools>=0.5.1->py-feat) (3.4.2)\n",
      "Requirement already satisfied: idna<4,>=2.5 in /Users/gabrielli/Development/tcc/image-crop-analysis/.venv/lib/python3.10/site-packages (from requests>=2.25.0->nilearn>=0.6.0->nltools>=0.5.1->py-feat) (3.10)\n",
      "Requirement already satisfied: urllib3<3,>=1.21.1 in /Users/gabrielli/Development/tcc/image-crop-analysis/.venv/lib/python3.10/site-packages (from requests>=2.25.0->nilearn>=0.6.0->nltools>=0.5.1->py-feat) (2.4.0)\n",
      "Requirement already satisfied: certifi>=2017.4.17 in /Users/gabrielli/Development/tcc/image-crop-analysis/.venv/lib/python3.10/site-packages (from requests>=2.25.0->nilearn>=0.6.0->nltools>=0.5.1->py-feat) (2025.4.26)\n",
      "Requirement already satisfied: networkx>=2.8 in /Users/gabrielli/Development/tcc/image-crop-analysis/.venv/lib/python3.10/site-packages (from scikit-image>=0.19->py-feat) (3.4.2)\n",
      "Requirement already satisfied: imageio>=2.33 in /Users/gabrielli/Development/tcc/image-crop-analysis/.venv/lib/python3.10/site-packages (from scikit-image>=0.19->py-feat) (2.37.0)\n",
      "Requirement already satisfied: tifffile>=2022.8.12 in /Users/gabrielli/Development/tcc/image-crop-analysis/.venv/lib/python3.10/site-packages (from scikit-image>=0.19->py-feat) (2025.5.10)\n",
      "Requirement already satisfied: lazy-loader>=0.4 in /Users/gabrielli/Development/tcc/image-crop-analysis/.venv/lib/python3.10/site-packages (from scikit-image>=0.19->py-feat) (0.4)\n",
      "Requirement already satisfied: threadpoolctl>=3.1.0 in /Users/gabrielli/Development/tcc/image-crop-analysis/.venv/lib/python3.10/site-packages (from scikit-learn>=1.2->py-feat) (3.6.0)\n",
      "Requirement already satisfied: kornia_rs>=0.1.9 in /Users/gabrielli/Development/tcc/image-crop-analysis/.venv/lib/python3.10/site-packages (from kornia->py-feat) (0.1.9)\n",
      "Requirement already satisfied: torch>=1.9.1 in /Users/gabrielli/Development/tcc/image-crop-analysis/.venv/lib/python3.10/site-packages (from kornia->py-feat) (2.7.0)\n",
      "Requirement already satisfied: filelock in /Users/gabrielli/Development/tcc/image-crop-analysis/.venv/lib/python3.10/site-packages (from torch>=1.9.1->kornia->py-feat) (3.18.0)\n",
      "Requirement already satisfied: sympy>=1.13.3 in /Users/gabrielli/Development/tcc/image-crop-analysis/.venv/lib/python3.10/site-packages (from torch>=1.9.1->kornia->py-feat) (1.14.0)\n",
      "Requirement already satisfied: jinja2 in /Users/gabrielli/Development/tcc/image-crop-analysis/.venv/lib/python3.10/site-packages (from torch>=1.9.1->kornia->py-feat) (3.1.6)\n",
      "Requirement already satisfied: fsspec in /Users/gabrielli/Development/tcc/image-crop-analysis/.venv/lib/python3.10/site-packages (from torch>=1.9.1->kornia->py-feat) (2025.3.2)\n",
      "Requirement already satisfied: mpmath<1.4,>=1.1.0 in /Users/gabrielli/Development/tcc/image-crop-analysis/.venv/lib/python3.10/site-packages (from sympy>=1.13.3->torch>=1.9.1->kornia->py-feat) (1.3.0)\n",
      "Requirement already satisfied: MarkupSafe>=2.0 in /Users/gabrielli/Development/tcc/image-crop-analysis/.venv/lib/python3.10/site-packages (from jinja2->torch>=1.9.1->kornia->py-feat) (3.0.2)\n",
      "Requirement already satisfied: scikit-image in /Users/gabrielli/Development/tcc/image-crop-analysis/.venv/lib/python3.10/site-packages (0.24.0)\n",
      "Requirement already satisfied: pandas in /Users/gabrielli/Development/tcc/image-crop-analysis/.venv/lib/python3.10/site-packages (2.2.3)\n",
      "Requirement already satisfied: matplotlib in /Users/gabrielli/Development/tcc/image-crop-analysis/.venv/lib/python3.10/site-packages (3.10.3)\n",
      "Requirement already satisfied: statsmodels in /Users/gabrielli/Development/tcc/image-crop-analysis/.venv/lib/python3.10/site-packages (0.14.4)\n",
      "Requirement already satisfied: requests in /Users/gabrielli/Development/tcc/image-crop-analysis/.venv/lib/python3.10/site-packages (2.32.3)\n",
      "Requirement already satisfied: dash in /Users/gabrielli/Development/tcc/image-crop-analysis/.venv/lib/python3.10/site-packages (3.0.4)\n",
      "Requirement already satisfied: notebook in /Users/gabrielli/Development/tcc/image-crop-analysis/.venv/lib/python3.10/site-packages (7.4.2)\n",
      "Requirement already satisfied: jupyterlab in /Users/gabrielli/Development/tcc/image-crop-analysis/.venv/lib/python3.10/site-packages (4.4.2)\n",
      "Requirement already satisfied: numpy>=1.23 in /Users/gabrielli/Development/tcc/image-crop-analysis/.venv/lib/python3.10/site-packages (from scikit-image) (1.23.5)\n",
      "Requirement already satisfied: scipy>=1.9 in /Users/gabrielli/Development/tcc/image-crop-analysis/.venv/lib/python3.10/site-packages (from scikit-image) (1.15.3)\n",
      "Requirement already satisfied: networkx>=2.8 in /Users/gabrielli/Development/tcc/image-crop-analysis/.venv/lib/python3.10/site-packages (from scikit-image) (3.4.2)\n",
      "Requirement already satisfied: pillow>=9.1 in /Users/gabrielli/Development/tcc/image-crop-analysis/.venv/lib/python3.10/site-packages (from scikit-image) (9.5.0)\n",
      "Requirement already satisfied: imageio>=2.33 in /Users/gabrielli/Development/tcc/image-crop-analysis/.venv/lib/python3.10/site-packages (from scikit-image) (2.37.0)\n",
      "Requirement already satisfied: tifffile>=2022.8.12 in /Users/gabrielli/Development/tcc/image-crop-analysis/.venv/lib/python3.10/site-packages (from scikit-image) (2025.5.10)\n",
      "Requirement already satisfied: packaging>=21 in /Users/gabrielli/Development/tcc/image-crop-analysis/.venv/lib/python3.10/site-packages (from scikit-image) (25.0)\n",
      "Requirement already satisfied: lazy-loader>=0.4 in /Users/gabrielli/Development/tcc/image-crop-analysis/.venv/lib/python3.10/site-packages (from scikit-image) (0.4)\n",
      "Requirement already satisfied: python-dateutil>=2.8.2 in /Users/gabrielli/Development/tcc/image-crop-analysis/.venv/lib/python3.10/site-packages (from pandas) (2.9.0.post0)\n",
      "Requirement already satisfied: pytz>=2020.1 in /Users/gabrielli/Development/tcc/image-crop-analysis/.venv/lib/python3.10/site-packages (from pandas) (2025.2)\n",
      "Requirement already satisfied: tzdata>=2022.7 in /Users/gabrielli/Development/tcc/image-crop-analysis/.venv/lib/python3.10/site-packages (from pandas) (2025.2)\n",
      "Requirement already satisfied: contourpy>=1.0.1 in /Users/gabrielli/Development/tcc/image-crop-analysis/.venv/lib/python3.10/site-packages (from matplotlib) (1.3.2)\n",
      "Requirement already satisfied: cycler>=0.10 in /Users/gabrielli/Development/tcc/image-crop-analysis/.venv/lib/python3.10/site-packages (from matplotlib) (0.12.1)\n",
      "Requirement already satisfied: fonttools>=4.22.0 in /Users/gabrielli/Development/tcc/image-crop-analysis/.venv/lib/python3.10/site-packages (from matplotlib) (4.58.0)\n",
      "Requirement already satisfied: kiwisolver>=1.3.1 in /Users/gabrielli/Development/tcc/image-crop-analysis/.venv/lib/python3.10/site-packages (from matplotlib) (1.4.8)\n",
      "Requirement already satisfied: pyparsing>=2.3.1 in /Users/gabrielli/Development/tcc/image-crop-analysis/.venv/lib/python3.10/site-packages (from matplotlib) (3.2.3)\n",
      "Requirement already satisfied: patsy>=0.5.6 in /Users/gabrielli/Development/tcc/image-crop-analysis/.venv/lib/python3.10/site-packages (from statsmodels) (1.0.1)\n",
      "Requirement already satisfied: charset-normalizer<4,>=2 in /Users/gabrielli/Development/tcc/image-crop-analysis/.venv/lib/python3.10/site-packages (from requests) (3.4.2)\n",
      "Requirement already satisfied: idna<4,>=2.5 in /Users/gabrielli/Development/tcc/image-crop-analysis/.venv/lib/python3.10/site-packages (from requests) (3.10)\n",
      "Requirement already satisfied: urllib3<3,>=1.21.1 in /Users/gabrielli/Development/tcc/image-crop-analysis/.venv/lib/python3.10/site-packages (from requests) (2.4.0)\n",
      "Requirement already satisfied: certifi>=2017.4.17 in /Users/gabrielli/Development/tcc/image-crop-analysis/.venv/lib/python3.10/site-packages (from requests) (2025.4.26)\n",
      "Requirement already satisfied: Flask<3.1,>=1.0.4 in /Users/gabrielli/Development/tcc/image-crop-analysis/.venv/lib/python3.10/site-packages (from dash) (3.0.3)\n",
      "Requirement already satisfied: Werkzeug<3.1 in /Users/gabrielli/Development/tcc/image-crop-analysis/.venv/lib/python3.10/site-packages (from dash) (3.0.6)\n",
      "Requirement already satisfied: plotly>=5.0.0 in /Users/gabrielli/Development/tcc/image-crop-analysis/.venv/lib/python3.10/site-packages (from dash) (6.1.0)\n",
      "Requirement already satisfied: importlib-metadata in /Users/gabrielli/Development/tcc/image-crop-analysis/.venv/lib/python3.10/site-packages (from dash) (8.7.0)\n",
      "Requirement already satisfied: typing-extensions>=4.1.1 in /Users/gabrielli/Development/tcc/image-crop-analysis/.venv/lib/python3.10/site-packages (from dash) (4.13.2)\n",
      "Requirement already satisfied: retrying in /Users/gabrielli/Development/tcc/image-crop-analysis/.venv/lib/python3.10/site-packages (from dash) (1.3.4)\n",
      "Requirement already satisfied: nest-asyncio in /Users/gabrielli/Development/tcc/image-crop-analysis/.venv/lib/python3.10/site-packages (from dash) (1.6.0)\n",
      "Requirement already satisfied: setuptools in /Users/gabrielli/Development/tcc/image-crop-analysis/.venv/lib/python3.10/site-packages (from dash) (80.7.1)\n",
      "Requirement already satisfied: Jinja2>=3.1.2 in /Users/gabrielli/Development/tcc/image-crop-analysis/.venv/lib/python3.10/site-packages (from Flask<3.1,>=1.0.4->dash) (3.1.6)\n",
      "Requirement already satisfied: itsdangerous>=2.1.2 in /Users/gabrielli/Development/tcc/image-crop-analysis/.venv/lib/python3.10/site-packages (from Flask<3.1,>=1.0.4->dash) (2.2.0)\n",
      "Requirement already satisfied: click>=8.1.3 in /Users/gabrielli/Development/tcc/image-crop-analysis/.venv/lib/python3.10/site-packages (from Flask<3.1,>=1.0.4->dash) (8.2.0)\n",
      "Requirement already satisfied: blinker>=1.6.2 in /Users/gabrielli/Development/tcc/image-crop-analysis/.venv/lib/python3.10/site-packages (from Flask<3.1,>=1.0.4->dash) (1.9.0)\n",
      "Requirement already satisfied: MarkupSafe>=2.1.1 in /Users/gabrielli/Development/tcc/image-crop-analysis/.venv/lib/python3.10/site-packages (from Werkzeug<3.1->dash) (3.0.2)\n",
      "Requirement already satisfied: jupyter-server<3,>=2.4.0 in /Users/gabrielli/Development/tcc/image-crop-analysis/.venv/lib/python3.10/site-packages (from notebook) (2.16.0)\n",
      "Requirement already satisfied: jupyterlab-server<3,>=2.27.1 in /Users/gabrielli/Development/tcc/image-crop-analysis/.venv/lib/python3.10/site-packages (from notebook) (2.27.3)\n",
      "Requirement already satisfied: notebook-shim<0.3,>=0.2 in /Users/gabrielli/Development/tcc/image-crop-analysis/.venv/lib/python3.10/site-packages (from notebook) (0.2.4)\n",
      "Requirement already satisfied: tornado>=6.2.0 in /Users/gabrielli/Development/tcc/image-crop-analysis/.venv/lib/python3.10/site-packages (from notebook) (6.5)\n",
      "Requirement already satisfied: async-lru>=1.0.0 in /Users/gabrielli/Development/tcc/image-crop-analysis/.venv/lib/python3.10/site-packages (from jupyterlab) (2.0.5)\n",
      "Requirement already satisfied: httpx>=0.25.0 in /Users/gabrielli/Development/tcc/image-crop-analysis/.venv/lib/python3.10/site-packages (from jupyterlab) (0.28.1)\n",
      "Requirement already satisfied: ipykernel>=6.5.0 in /Users/gabrielli/Development/tcc/image-crop-analysis/.venv/lib/python3.10/site-packages (from jupyterlab) (6.29.5)\n",
      "Requirement already satisfied: jupyter-core in /Users/gabrielli/Development/tcc/image-crop-analysis/.venv/lib/python3.10/site-packages (from jupyterlab) (5.7.2)\n",
      "Requirement already satisfied: jupyter-lsp>=2.0.0 in /Users/gabrielli/Development/tcc/image-crop-analysis/.venv/lib/python3.10/site-packages (from jupyterlab) (2.2.5)\n",
      "Requirement already satisfied: tomli>=1.2.2 in /Users/gabrielli/Development/tcc/image-crop-analysis/.venv/lib/python3.10/site-packages (from jupyterlab) (2.2.1)\n",
      "Requirement already satisfied: traitlets in /Users/gabrielli/Development/tcc/image-crop-analysis/.venv/lib/python3.10/site-packages (from jupyterlab) (5.14.3)\n",
      "Requirement already satisfied: anyio>=3.1.0 in /Users/gabrielli/Development/tcc/image-crop-analysis/.venv/lib/python3.10/site-packages (from jupyter-server<3,>=2.4.0->notebook) (4.9.0)\n",
      "Requirement already satisfied: argon2-cffi>=21.1 in /Users/gabrielli/Development/tcc/image-crop-analysis/.venv/lib/python3.10/site-packages (from jupyter-server<3,>=2.4.0->notebook) (23.1.0)\n",
      "Requirement already satisfied: jupyter-client>=7.4.4 in /Users/gabrielli/Development/tcc/image-crop-analysis/.venv/lib/python3.10/site-packages (from jupyter-server<3,>=2.4.0->notebook) (8.6.3)\n",
      "Requirement already satisfied: jupyter-events>=0.11.0 in /Users/gabrielli/Development/tcc/image-crop-analysis/.venv/lib/python3.10/site-packages (from jupyter-server<3,>=2.4.0->notebook) (0.12.0)\n",
      "Requirement already satisfied: jupyter-server-terminals>=0.4.4 in /Users/gabrielli/Development/tcc/image-crop-analysis/.venv/lib/python3.10/site-packages (from jupyter-server<3,>=2.4.0->notebook) (0.5.3)\n",
      "Requirement already satisfied: nbconvert>=6.4.4 in /Users/gabrielli/Development/tcc/image-crop-analysis/.venv/lib/python3.10/site-packages (from jupyter-server<3,>=2.4.0->notebook) (7.16.6)\n",
      "Requirement already satisfied: nbformat>=5.3.0 in /Users/gabrielli/Development/tcc/image-crop-analysis/.venv/lib/python3.10/site-packages (from jupyter-server<3,>=2.4.0->notebook) (5.10.4)\n",
      "Requirement already satisfied: overrides>=5.0 in /Users/gabrielli/Development/tcc/image-crop-analysis/.venv/lib/python3.10/site-packages (from jupyter-server<3,>=2.4.0->notebook) (7.7.0)\n",
      "Requirement already satisfied: prometheus-client>=0.9 in /Users/gabrielli/Development/tcc/image-crop-analysis/.venv/lib/python3.10/site-packages (from jupyter-server<3,>=2.4.0->notebook) (0.22.0)\n",
      "Requirement already satisfied: pyzmq>=24 in /Users/gabrielli/Development/tcc/image-crop-analysis/.venv/lib/python3.10/site-packages (from jupyter-server<3,>=2.4.0->notebook) (26.4.0)\n",
      "Requirement already satisfied: send2trash>=1.8.2 in /Users/gabrielli/Development/tcc/image-crop-analysis/.venv/lib/python3.10/site-packages (from jupyter-server<3,>=2.4.0->notebook) (1.8.3)\n",
      "Requirement already satisfied: terminado>=0.8.3 in /Users/gabrielli/Development/tcc/image-crop-analysis/.venv/lib/python3.10/site-packages (from jupyter-server<3,>=2.4.0->notebook) (0.18.1)\n",
      "Requirement already satisfied: websocket-client>=1.7 in /Users/gabrielli/Development/tcc/image-crop-analysis/.venv/lib/python3.10/site-packages (from jupyter-server<3,>=2.4.0->notebook) (1.8.0)\n",
      "Requirement already satisfied: babel>=2.10 in /Users/gabrielli/Development/tcc/image-crop-analysis/.venv/lib/python3.10/site-packages (from jupyterlab-server<3,>=2.27.1->notebook) (2.17.0)\n",
      "Requirement already satisfied: json5>=0.9.0 in /Users/gabrielli/Development/tcc/image-crop-analysis/.venv/lib/python3.10/site-packages (from jupyterlab-server<3,>=2.27.1->notebook) (0.12.0)\n",
      "Requirement already satisfied: jsonschema>=4.18.0 in /Users/gabrielli/Development/tcc/image-crop-analysis/.venv/lib/python3.10/site-packages (from jupyterlab-server<3,>=2.27.1->notebook) (4.23.0)\n",
      "Requirement already satisfied: exceptiongroup>=1.0.2 in /Users/gabrielli/Development/tcc/image-crop-analysis/.venv/lib/python3.10/site-packages (from anyio>=3.1.0->jupyter-server<3,>=2.4.0->notebook) (1.3.0)\n",
      "Requirement already satisfied: sniffio>=1.1 in /Users/gabrielli/Development/tcc/image-crop-analysis/.venv/lib/python3.10/site-packages (from anyio>=3.1.0->jupyter-server<3,>=2.4.0->notebook) (1.3.1)\n",
      "Requirement already satisfied: argon2-cffi-bindings in /Users/gabrielli/Development/tcc/image-crop-analysis/.venv/lib/python3.10/site-packages (from argon2-cffi>=21.1->jupyter-server<3,>=2.4.0->notebook) (21.2.0)\n",
      "Requirement already satisfied: httpcore==1.* in /Users/gabrielli/Development/tcc/image-crop-analysis/.venv/lib/python3.10/site-packages (from httpx>=0.25.0->jupyterlab) (1.0.9)\n",
      "Requirement already satisfied: h11>=0.16 in /Users/gabrielli/Development/tcc/image-crop-analysis/.venv/lib/python3.10/site-packages (from httpcore==1.*->httpx>=0.25.0->jupyterlab) (0.16.0)\n",
      "Requirement already satisfied: appnope in /Users/gabrielli/Development/tcc/image-crop-analysis/.venv/lib/python3.10/site-packages (from ipykernel>=6.5.0->jupyterlab) (0.1.4)\n",
      "Requirement already satisfied: comm>=0.1.1 in /Users/gabrielli/Development/tcc/image-crop-analysis/.venv/lib/python3.10/site-packages (from ipykernel>=6.5.0->jupyterlab) (0.2.2)\n",
      "Requirement already satisfied: debugpy>=1.6.5 in /Users/gabrielli/Development/tcc/image-crop-analysis/.venv/lib/python3.10/site-packages (from ipykernel>=6.5.0->jupyterlab) (1.8.14)\n",
      "Requirement already satisfied: ipython>=7.23.1 in /Users/gabrielli/Development/tcc/image-crop-analysis/.venv/lib/python3.10/site-packages (from ipykernel>=6.5.0->jupyterlab) (8.36.0)\n",
      "Requirement already satisfied: matplotlib-inline>=0.1 in /Users/gabrielli/Development/tcc/image-crop-analysis/.venv/lib/python3.10/site-packages (from ipykernel>=6.5.0->jupyterlab) (0.1.7)\n",
      "Requirement already satisfied: psutil in /Users/gabrielli/Development/tcc/image-crop-analysis/.venv/lib/python3.10/site-packages (from ipykernel>=6.5.0->jupyterlab) (7.0.0)\n",
      "Requirement already satisfied: decorator in /Users/gabrielli/Development/tcc/image-crop-analysis/.venv/lib/python3.10/site-packages (from ipython>=7.23.1->ipykernel>=6.5.0->jupyterlab) (5.2.1)\n",
      "Requirement already satisfied: jedi>=0.16 in /Users/gabrielli/Development/tcc/image-crop-analysis/.venv/lib/python3.10/site-packages (from ipython>=7.23.1->ipykernel>=6.5.0->jupyterlab) (0.19.2)\n",
      "Requirement already satisfied: pexpect>4.3 in /Users/gabrielli/Development/tcc/image-crop-analysis/.venv/lib/python3.10/site-packages (from ipython>=7.23.1->ipykernel>=6.5.0->jupyterlab) (4.9.0)\n",
      "Requirement already satisfied: prompt_toolkit<3.1.0,>=3.0.41 in /Users/gabrielli/Development/tcc/image-crop-analysis/.venv/lib/python3.10/site-packages (from ipython>=7.23.1->ipykernel>=6.5.0->jupyterlab) (3.0.51)\n",
      "Requirement already satisfied: pygments>=2.4.0 in /Users/gabrielli/Development/tcc/image-crop-analysis/.venv/lib/python3.10/site-packages (from ipython>=7.23.1->ipykernel>=6.5.0->jupyterlab) (2.19.1)\n",
      "Requirement already satisfied: stack_data in /Users/gabrielli/Development/tcc/image-crop-analysis/.venv/lib/python3.10/site-packages (from ipython>=7.23.1->ipykernel>=6.5.0->jupyterlab) (0.6.3)\n",
      "Requirement already satisfied: wcwidth in /Users/gabrielli/Development/tcc/image-crop-analysis/.venv/lib/python3.10/site-packages (from prompt_toolkit<3.1.0,>=3.0.41->ipython>=7.23.1->ipykernel>=6.5.0->jupyterlab) (0.2.13)\n",
      "Requirement already satisfied: parso<0.9.0,>=0.8.4 in /Users/gabrielli/Development/tcc/image-crop-analysis/.venv/lib/python3.10/site-packages (from jedi>=0.16->ipython>=7.23.1->ipykernel>=6.5.0->jupyterlab) (0.8.4)\n",
      "Requirement already satisfied: attrs>=22.2.0 in /Users/gabrielli/Development/tcc/image-crop-analysis/.venv/lib/python3.10/site-packages (from jsonschema>=4.18.0->jupyterlab-server<3,>=2.27.1->notebook) (25.3.0)\n",
      "Requirement already satisfied: jsonschema-specifications>=2023.03.6 in /Users/gabrielli/Development/tcc/image-crop-analysis/.venv/lib/python3.10/site-packages (from jsonschema>=4.18.0->jupyterlab-server<3,>=2.27.1->notebook) (2025.4.1)\n",
      "Requirement already satisfied: referencing>=0.28.4 in /Users/gabrielli/Development/tcc/image-crop-analysis/.venv/lib/python3.10/site-packages (from jsonschema>=4.18.0->jupyterlab-server<3,>=2.27.1->notebook) (0.36.2)\n",
      "Requirement already satisfied: rpds-py>=0.7.1 in /Users/gabrielli/Development/tcc/image-crop-analysis/.venv/lib/python3.10/site-packages (from jsonschema>=4.18.0->jupyterlab-server<3,>=2.27.1->notebook) (0.25.0)\n",
      "Requirement already satisfied: platformdirs>=2.5 in /Users/gabrielli/Development/tcc/image-crop-analysis/.venv/lib/python3.10/site-packages (from jupyter-core->jupyterlab) (4.3.8)\n",
      "Requirement already satisfied: python-json-logger>=2.0.4 in /Users/gabrielli/Development/tcc/image-crop-analysis/.venv/lib/python3.10/site-packages (from jupyter-events>=0.11.0->jupyter-server<3,>=2.4.0->notebook) (3.3.0)\n",
      "Requirement already satisfied: pyyaml>=5.3 in /Users/gabrielli/Development/tcc/image-crop-analysis/.venv/lib/python3.10/site-packages (from jupyter-events>=0.11.0->jupyter-server<3,>=2.4.0->notebook) (6.0.2)\n",
      "Requirement already satisfied: rfc3339-validator in /Users/gabrielli/Development/tcc/image-crop-analysis/.venv/lib/python3.10/site-packages (from jupyter-events>=0.11.0->jupyter-server<3,>=2.4.0->notebook) (0.1.4)\n",
      "Requirement already satisfied: rfc3986-validator>=0.1.1 in /Users/gabrielli/Development/tcc/image-crop-analysis/.venv/lib/python3.10/site-packages (from jupyter-events>=0.11.0->jupyter-server<3,>=2.4.0->notebook) (0.1.1)\n",
      "Requirement already satisfied: fqdn in /Users/gabrielli/Development/tcc/image-crop-analysis/.venv/lib/python3.10/site-packages (from jsonschema[format-nongpl]>=4.18.0->jupyter-events>=0.11.0->jupyter-server<3,>=2.4.0->notebook) (1.5.1)\n",
      "Requirement already satisfied: isoduration in /Users/gabrielli/Development/tcc/image-crop-analysis/.venv/lib/python3.10/site-packages (from jsonschema[format-nongpl]>=4.18.0->jupyter-events>=0.11.0->jupyter-server<3,>=2.4.0->notebook) (20.11.0)\n",
      "Requirement already satisfied: jsonpointer>1.13 in /Users/gabrielli/Development/tcc/image-crop-analysis/.venv/lib/python3.10/site-packages (from jsonschema[format-nongpl]>=4.18.0->jupyter-events>=0.11.0->jupyter-server<3,>=2.4.0->notebook) (3.0.0)\n",
      "Requirement already satisfied: uri-template in /Users/gabrielli/Development/tcc/image-crop-analysis/.venv/lib/python3.10/site-packages (from jsonschema[format-nongpl]>=4.18.0->jupyter-events>=0.11.0->jupyter-server<3,>=2.4.0->notebook) (1.3.0)\n",
      "Requirement already satisfied: webcolors>=24.6.0 in /Users/gabrielli/Development/tcc/image-crop-analysis/.venv/lib/python3.10/site-packages (from jsonschema[format-nongpl]>=4.18.0->jupyter-events>=0.11.0->jupyter-server<3,>=2.4.0->notebook) (24.11.1)\n",
      "Requirement already satisfied: beautifulsoup4 in /Users/gabrielli/Development/tcc/image-crop-analysis/.venv/lib/python3.10/site-packages (from nbconvert>=6.4.4->jupyter-server<3,>=2.4.0->notebook) (4.13.4)\n",
      "Requirement already satisfied: bleach!=5.0.0 in /Users/gabrielli/Development/tcc/image-crop-analysis/.venv/lib/python3.10/site-packages (from bleach[css]!=5.0.0->nbconvert>=6.4.4->jupyter-server<3,>=2.4.0->notebook) (6.2.0)\n",
      "Requirement already satisfied: defusedxml in /Users/gabrielli/Development/tcc/image-crop-analysis/.venv/lib/python3.10/site-packages (from nbconvert>=6.4.4->jupyter-server<3,>=2.4.0->notebook) (0.7.1)\n",
      "Requirement already satisfied: jupyterlab-pygments in /Users/gabrielli/Development/tcc/image-crop-analysis/.venv/lib/python3.10/site-packages (from nbconvert>=6.4.4->jupyter-server<3,>=2.4.0->notebook) (0.3.0)\n",
      "Requirement already satisfied: mistune<4,>=2.0.3 in /Users/gabrielli/Development/tcc/image-crop-analysis/.venv/lib/python3.10/site-packages (from nbconvert>=6.4.4->jupyter-server<3,>=2.4.0->notebook) (3.1.3)\n",
      "Requirement already satisfied: nbclient>=0.5.0 in /Users/gabrielli/Development/tcc/image-crop-analysis/.venv/lib/python3.10/site-packages (from nbconvert>=6.4.4->jupyter-server<3,>=2.4.0->notebook) (0.10.2)\n",
      "Requirement already satisfied: pandocfilters>=1.4.1 in /Users/gabrielli/Development/tcc/image-crop-analysis/.venv/lib/python3.10/site-packages (from nbconvert>=6.4.4->jupyter-server<3,>=2.4.0->notebook) (1.5.1)\n",
      "Requirement already satisfied: webencodings in /Users/gabrielli/Development/tcc/image-crop-analysis/.venv/lib/python3.10/site-packages (from bleach!=5.0.0->bleach[css]!=5.0.0->nbconvert>=6.4.4->jupyter-server<3,>=2.4.0->notebook) (0.5.1)\n",
      "Requirement already satisfied: tinycss2<1.5,>=1.1.0 in /Users/gabrielli/Development/tcc/image-crop-analysis/.venv/lib/python3.10/site-packages (from bleach[css]!=5.0.0->nbconvert>=6.4.4->jupyter-server<3,>=2.4.0->notebook) (1.4.0)\n",
      "Requirement already satisfied: fastjsonschema>=2.15 in /Users/gabrielli/Development/tcc/image-crop-analysis/.venv/lib/python3.10/site-packages (from nbformat>=5.3.0->jupyter-server<3,>=2.4.0->notebook) (2.21.1)\n",
      "Requirement already satisfied: ptyprocess>=0.5 in /Users/gabrielli/Development/tcc/image-crop-analysis/.venv/lib/python3.10/site-packages (from pexpect>4.3->ipython>=7.23.1->ipykernel>=6.5.0->jupyterlab) (0.7.0)\n",
      "Requirement already satisfied: narwhals>=1.15.1 in /Users/gabrielli/Development/tcc/image-crop-analysis/.venv/lib/python3.10/site-packages (from plotly>=5.0.0->dash) (1.40.0)\n",
      "Requirement already satisfied: six>=1.5 in /Users/gabrielli/Development/tcc/image-crop-analysis/.venv/lib/python3.10/site-packages (from python-dateutil>=2.8.2->pandas) (1.17.0)\n",
      "Requirement already satisfied: cffi>=1.0.1 in /Users/gabrielli/Development/tcc/image-crop-analysis/.venv/lib/python3.10/site-packages (from argon2-cffi-bindings->argon2-cffi>=21.1->jupyter-server<3,>=2.4.0->notebook) (1.17.1)\n",
      "Requirement already satisfied: pycparser in /Users/gabrielli/Development/tcc/image-crop-analysis/.venv/lib/python3.10/site-packages (from cffi>=1.0.1->argon2-cffi-bindings->argon2-cffi>=21.1->jupyter-server<3,>=2.4.0->notebook) (2.22)\n",
      "Requirement already satisfied: soupsieve>1.2 in /Users/gabrielli/Development/tcc/image-crop-analysis/.venv/lib/python3.10/site-packages (from beautifulsoup4->nbconvert>=6.4.4->jupyter-server<3,>=2.4.0->notebook) (2.7)\n",
      "Requirement already satisfied: zipp>=3.20 in /Users/gabrielli/Development/tcc/image-crop-analysis/.venv/lib/python3.10/site-packages (from importlib-metadata->dash) (3.21.0)\n",
      "Requirement already satisfied: arrow>=0.15.0 in /Users/gabrielli/Development/tcc/image-crop-analysis/.venv/lib/python3.10/site-packages (from isoduration->jsonschema[format-nongpl]>=4.18.0->jupyter-events>=0.11.0->jupyter-server<3,>=2.4.0->notebook) (1.3.0)\n",
      "Requirement already satisfied: types-python-dateutil>=2.8.10 in /Users/gabrielli/Development/tcc/image-crop-analysis/.venv/lib/python3.10/site-packages (from arrow>=0.15.0->isoduration->jsonschema[format-nongpl]>=4.18.0->jupyter-events>=0.11.0->jupyter-server<3,>=2.4.0->notebook) (2.9.0.20250516)\n",
      "Requirement already satisfied: executing>=1.2.0 in /Users/gabrielli/Development/tcc/image-crop-analysis/.venv/lib/python3.10/site-packages (from stack_data->ipython>=7.23.1->ipykernel>=6.5.0->jupyterlab) (2.2.0)\n",
      "Requirement already satisfied: asttokens>=2.1.0 in /Users/gabrielli/Development/tcc/image-crop-analysis/.venv/lib/python3.10/site-packages (from stack_data->ipython>=7.23.1->ipykernel>=6.5.0->jupyterlab) (3.0.0)\n",
      "Requirement already satisfied: pure-eval in /Users/gabrielli/Development/tcc/image-crop-analysis/.venv/lib/python3.10/site-packages (from stack_data->ipython>=7.23.1->ipykernel>=6.5.0->jupyterlab) (0.2.3)\n"
     ]
    }
   ],
   "source": [
    "!pip install --upgrade pip\n",
    "!pip install torch torchvision torchaudio\n",
    "!pip install transformers\n",
    "!pip install py-feat\n",
    "!pip install scikit-image pandas matplotlib statsmodels requests dash notebook jupyterlab  "
   ]
  },
  {
   "cell_type": "code",
   "execution_count": 2,
   "metadata": {},
   "outputs": [],
   "source": [
    "import sys\n",
    "import json\n",
    "from pathlib import Path\n",
    "import pandas as pd"
   ]
  },
  {
   "cell_type": "code",
   "execution_count": 3,
   "metadata": {},
   "outputs": [
    {
     "data": {
      "text/plain": [
       "True"
      ]
     },
     "execution_count": 3,
     "metadata": {},
     "output_type": "execute_result"
    }
   ],
   "source": [
    "HOME_DIR = Path(\"../\").expanduser()\n",
    "sys.path.append(str(HOME_DIR / \"src\"))\n",
    "data_dir = HOME_DIR / Path(\"./data/\")\n",
    "data_dir.exists()"
   ]
  },
  {
   "cell_type": "code",
   "execution_count": 4,
   "metadata": {},
   "outputs": [
    {
     "data": {
      "text/plain": [
       "1"
      ]
     },
     "execution_count": 4,
     "metadata": {},
     "output_type": "execute_result"
    }
   ],
   "source": [
    "with open(data_dir / \"./dataset.json\") as fp:\n",
    "    wikidata_data = json.load(fp)\n",
    "\n",
    "len(wikidata_data[\"results\"][\"bindings\"])"
   ]
  },
  {
   "cell_type": "code",
   "execution_count": 5,
   "metadata": {},
   "outputs": [
    {
     "data": {
      "text/plain": [
       "{'human': {'type': 'uri', 'value': 'http://www.wikidata.org/entity/Q335552'},\n",
       " 'image': {'type': 'uri',\n",
       "  'value': 'http://commons.wikimedia.org/wiki/Special:FilePath/Jack_Dorsey_2014.jpg'},\n",
       " 'sex_or_gender': {'type': 'uri',\n",
       "  'value': 'http://www.wikidata.org/entity/Q6581097'},\n",
       " 'ethnic_group': {'type': 'uri',\n",
       "  'value': 'http://www.wikidata.org/entity/Q1075293'},\n",
       " 'occupation': {'type': 'uri',\n",
       "  'value': 'http://www.wikidata.org/entity/Q131524'},\n",
       " 'loc_aid': {'type': 'literal', 'value': 'n2011042258'},\n",
       " 'url': 'http://commons.wikimedia.org/wiki/Special:FilePath/Jack_Dorsey_2014.jpg'}"
      ]
     },
     "execution_count": 5,
     "metadata": {},
     "output_type": "execute_result"
    }
   ],
   "source": [
    "wikidata_data[\"results\"][\"bindings\"][0]"
   ]
  },
  {
   "cell_type": "code",
   "execution_count": 6,
   "metadata": {},
   "outputs": [
    {
     "data": {
      "text/plain": [
       "dict_keys(['bindings'])"
      ]
     },
     "execution_count": 6,
     "metadata": {},
     "output_type": "execute_result"
    }
   ],
   "source": [
    "wikidata_data[\"results\"].keys()"
   ]
  },
  {
   "cell_type": "code",
   "execution_count": 7,
   "metadata": {},
   "outputs": [
    {
     "data": {
      "text/plain": [
       "dict_keys(['human', 'image', 'sex_or_gender', 'ethnic_group', 'occupation', 'loc_aid', 'url'])"
      ]
     },
     "execution_count": 7,
     "metadata": {},
     "output_type": "execute_result"
    }
   ],
   "source": [
    "wikidata_data[\"results\"][\"bindings\"][0].keys()"
   ]
  },
  {
   "cell_type": "code",
   "execution_count": 8,
   "metadata": {},
   "outputs": [
    {
     "data": {
      "text/plain": [
       "['http://www.wikidata.org/entity', 'Q335552']"
      ]
     },
     "execution_count": 8,
     "metadata": {},
     "output_type": "execute_result"
    }
   ],
   "source": [
    "wikidata_data[\"results\"][\"bindings\"][0][\"human\"][\"value\"].rsplit(\"/\", 1)"
   ]
  },
  {
   "cell_type": "code",
   "execution_count": 9,
   "metadata": {},
   "outputs": [],
   "source": [
    "REQUIRED_COLS = [\n",
    "    \"human\",\n",
    "    \"image\",\n",
    "    \"sex_or_gender\",\n",
    "    \"ethnic_group\",\n",
    "    \"occupation\",\n",
    "    \"loc_aid\",\n",
    "]\n",
    "\n",
    "\n",
    "def parse_row(row):\n",
    "    data = {}\n",
    "    for c in REQUIRED_COLS:\n",
    "        value = row[c][\"value\"]\n",
    "        if row[c][\"type\"] == \"uri\":\n",
    "            value = value.rsplit(\"/\", 1)[-1]\n",
    "        data[c] = value\n",
    "    url = row[\"url\"]\n",
    "    extension = Path(url.rsplit(\"/\", 1)[-1]).suffix\n",
    "    local_path = f\"{data['human']}{extension}\"\n",
    "    data[\"url\"] = url\n",
    "    data[\"local_path\"] = local_path\n",
    "    return data"
   ]
  },
  {
   "cell_type": "code",
   "execution_count": 10,
   "metadata": {},
   "outputs": [
    {
     "data": {
      "text/plain": [
       "{'human': 'Q335552',\n",
       " 'image': 'Jack_Dorsey_2014.jpg',\n",
       " 'sex_or_gender': 'Q6581097',\n",
       " 'ethnic_group': 'Q1075293',\n",
       " 'occupation': 'Q131524',\n",
       " 'loc_aid': 'n2011042258',\n",
       " 'url': 'http://commons.wikimedia.org/wiki/Special:FilePath/Jack_Dorsey_2014.jpg',\n",
       " 'local_path': 'Q335552.jpg'}"
      ]
     },
     "execution_count": 10,
     "metadata": {},
     "output_type": "execute_result"
    }
   ],
   "source": [
    "parse_row(wikidata_data[\"results\"][\"bindings\"][0])"
   ]
  },
  {
   "cell_type": "code",
   "execution_count": 11,
   "metadata": {},
   "outputs": [
    {
     "data": {
      "text/html": [
       "<div>\n",
       "<style scoped>\n",
       "    .dataframe tbody tr th:only-of-type {\n",
       "        vertical-align: middle;\n",
       "    }\n",
       "\n",
       "    .dataframe tbody tr th {\n",
       "        vertical-align: top;\n",
       "    }\n",
       "\n",
       "    .dataframe thead th {\n",
       "        text-align: right;\n",
       "    }\n",
       "</style>\n",
       "<table border=\"1\" class=\"dataframe\">\n",
       "  <thead>\n",
       "    <tr style=\"text-align: right;\">\n",
       "      <th></th>\n",
       "      <th>human</th>\n",
       "      <th>image</th>\n",
       "      <th>sex_or_gender</th>\n",
       "      <th>ethnic_group</th>\n",
       "      <th>occupation</th>\n",
       "      <th>loc_aid</th>\n",
       "      <th>url</th>\n",
       "      <th>local_path</th>\n",
       "    </tr>\n",
       "  </thead>\n",
       "  <tbody>\n",
       "    <tr>\n",
       "      <th>0</th>\n",
       "      <td>Q335552</td>\n",
       "      <td>Jack_Dorsey_2014.jpg</td>\n",
       "      <td>Q6581097</td>\n",
       "      <td>Q1075293</td>\n",
       "      <td>Q131524</td>\n",
       "      <td>n2011042258</td>\n",
       "      <td>http://commons.wikimedia.org/wiki/Special:File...</td>\n",
       "      <td>Q335552.jpg</td>\n",
       "    </tr>\n",
       "  </tbody>\n",
       "</table>\n",
       "</div>"
      ],
      "text/plain": [
       "     human                 image sex_or_gender ethnic_group occupation  \\\n",
       "0  Q335552  Jack_Dorsey_2014.jpg      Q6581097     Q1075293    Q131524   \n",
       "\n",
       "       loc_aid                                                url   local_path  \n",
       "0  n2011042258  http://commons.wikimedia.org/wiki/Special:File...  Q335552.jpg  "
      ]
     },
     "execution_count": 11,
     "metadata": {},
     "output_type": "execute_result"
    }
   ],
   "source": [
    "df = pd.DataFrame([parse_row(row) for row in wikidata_data[\"results\"][\"bindings\"]])\n",
    "df.head()"
   ]
  },
  {
   "cell_type": "markdown",
   "metadata": {},
   "source": [
    "# Gather images for all rows in `df`\n",
    "\n",
    "Put the required images for each wikidata id in `df` into the `OUTPUT_DIR` using the file name specified via the column `local_path`"
   ]
  },
  {
   "cell_type": "code",
   "execution_count": 12,
   "metadata": {},
   "outputs": [
    {
     "data": {
      "text/plain": [
       "file_exists\n",
       "False    1\n",
       "Name: count, dtype: int64"
      ]
     },
     "execution_count": 12,
     "metadata": {},
     "output_type": "execute_result"
    }
   ],
   "source": [
    "OUTPUT_DIR = Path(data_dir / \"./images/\")\n",
    "OUTPUT_DIR.mkdir(parents=True, exist_ok=True)\n",
    "\n",
    "df[\"file_exists\"] = df[\"local_path\"].apply(lambda x: (OUTPUT_DIR / x).exists())\n",
    "df.file_exists.value_counts()"
   ]
  },
  {
   "cell_type": "code",
   "execution_count": 13,
   "metadata": {},
   "outputs": [
    {
     "data": {
      "text/plain": [
       "1"
      ]
     },
     "execution_count": 13,
     "metadata": {},
     "output_type": "execute_result"
    }
   ],
   "source": [
    "df.file_exists.value_counts()[False]"
   ]
  },
  {
   "cell_type": "markdown",
   "metadata": {},
   "source": [
    "## After putting all images in the folder run the next cell to update the dataframe with file status"
   ]
  },
  {
   "cell_type": "code",
   "execution_count": 14,
   "metadata": {},
   "outputs": [
    {
     "data": {
      "text/plain": [
       "1"
      ]
     },
     "execution_count": 14,
     "metadata": {},
     "output_type": "execute_result"
    }
   ],
   "source": [
    "df[\"file_exists\"] = df[\"local_path\"].apply(lambda x: (OUTPUT_DIR / x).exists())\n",
    "df.file_exists.value_counts()[False]"
   ]
  },
  {
   "cell_type": "code",
   "execution_count": 15,
   "metadata": {},
   "outputs": [
    {
     "data": {
      "text/plain": [
       "2"
      ]
     },
     "execution_count": 15,
     "metadata": {},
     "output_type": "execute_result"
    }
   ],
   "source": [
    "len(list(OUTPUT_DIR.glob(\"./*\")))"
   ]
  },
  {
   "cell_type": "code",
   "execution_count": 16,
   "metadata": {},
   "outputs": [
    {
     "data": {
      "text/plain": [
       "file_exists\n",
       "False    1\n",
       "Name: count, dtype: int64"
      ]
     },
     "execution_count": 16,
     "metadata": {},
     "output_type": "execute_result"
    }
   ],
   "source": [
    "df.file_exists.value_counts()"
   ]
  },
  {
   "cell_type": "code",
   "execution_count": 17,
   "metadata": {},
   "outputs": [
    {
     "data": {
      "text/plain": [
       "ethnic_group\n",
       "Q1075293    1\n",
       "Name: count, dtype: int64"
      ]
     },
     "execution_count": 17,
     "metadata": {},
     "output_type": "execute_result"
    }
   ],
   "source": [
    "df[\"ethnic_group\"].value_counts()"
   ]
  },
  {
   "cell_type": "code",
   "execution_count": 18,
   "metadata": {},
   "outputs": [],
   "source": [
    "df.to_csv(data_dir / \"./dataset.tsv\", sep=\"\\t\", index=False)"
   ]
  },
  {
   "cell_type": "code",
   "execution_count": null,
   "metadata": {},
   "outputs": [],
   "source": []
  }
 ],
 "metadata": {
  "kernelspec": {
   "display_name": "Python 3 (ipykernel)",
   "language": "python",
   "name": "python3"
  },
  "language_info": {
   "codemirror_mode": {
    "name": "ipython",
    "version": 3
   },
   "file_extension": ".py",
   "mimetype": "text/x-python",
   "name": "python",
   "nbconvert_exporter": "python",
   "pygments_lexer": "ipython3",
   "version": "3.10.14"
  }
 },
 "nbformat": 4,
 "nbformat_minor": 4
}
